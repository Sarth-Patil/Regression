{
 "cells": [
  {
   "cell_type": "code",
   "execution_count": 2,
   "metadata": {},
   "outputs": [
    {
     "name": "stderr",
     "output_type": "stream",
     "text": [
      "Using TensorFlow backend.\n"
     ]
    }
   ],
   "source": [
    "import os  \n",
    "import numpy as np\n",
    "import pandas as pd  \n",
    "import matplotlib.pyplot as plt  \n",
    "%matplotlib inline\n",
    "import tensorflow as tf\n",
    "import keras\n",
    "from keras.models import Sequential\n",
    "from keras.layers import Dense\n",
    "from keras.models import Model,Input\n",
    "from keras.callbacks import TensorBoard"
   ]
  },
  {
   "cell_type": "code",
   "execution_count": 19,
   "metadata": {},
   "outputs": [
    {
     "name": "stdout",
     "output_type": "stream",
     "text": [
      "tensorflow_version:  1.7.0\n",
      "keras_version:  2.2.0\n"
     ]
    }
   ],
   "source": [
    "print ('tensorflow_version: ',tf.__version__)\n",
    "print ('keras_version: ',keras.__version__)"
   ]
  },
  {
   "cell_type": "code",
   "execution_count": null,
   "metadata": {},
   "outputs": [],
   "source": [
    "#The data is for a random sample of the wild flower iris setosa.\n",
    "#In the following data, X = sepal width (cm),Y = sepal length (cm).\n",
    "data = pd.read_csv('x01.txt', header=None, names=['width', 'length'])  \n",
    "data.head()\n"
   ]
  },
  {
   "cell_type": "code",
   "execution_count": 14,
   "metadata": {},
   "outputs": [
    {
     "data": {
      "text/html": [
       "<div>\n",
       "<style scoped>\n",
       "    .dataframe tbody tr th:only-of-type {\n",
       "        vertical-align: middle;\n",
       "    }\n",
       "\n",
       "    .dataframe tbody tr th {\n",
       "        vertical-align: top;\n",
       "    }\n",
       "\n",
       "    .dataframe thead th {\n",
       "        text-align: right;\n",
       "    }\n",
       "</style>\n",
       "<table border=\"1\" class=\"dataframe\">\n",
       "  <thead>\n",
       "    <tr style=\"text-align: right;\">\n",
       "      <th></th>\n",
       "      <th>width</th>\n",
       "      <th>length</th>\n",
       "    </tr>\n",
       "  </thead>\n",
       "  <tbody>\n",
       "    <tr>\n",
       "      <th>count</th>\n",
       "      <td>45.000000</td>\n",
       "      <td>45.000000</td>\n",
       "    </tr>\n",
       "    <tr>\n",
       "      <th>mean</th>\n",
       "      <td>3.386667</td>\n",
       "      <td>4.993333</td>\n",
       "    </tr>\n",
       "    <tr>\n",
       "      <th>std</th>\n",
       "      <td>0.479394</td>\n",
       "      <td>0.443847</td>\n",
       "    </tr>\n",
       "    <tr>\n",
       "      <th>min</th>\n",
       "      <td>2.100000</td>\n",
       "      <td>4.000000</td>\n",
       "    </tr>\n",
       "    <tr>\n",
       "      <th>25%</th>\n",
       "      <td>3.200000</td>\n",
       "      <td>4.700000</td>\n",
       "    </tr>\n",
       "    <tr>\n",
       "      <th>50%</th>\n",
       "      <td>3.400000</td>\n",
       "      <td>5.000000</td>\n",
       "    </tr>\n",
       "    <tr>\n",
       "      <th>75%</th>\n",
       "      <td>3.600000</td>\n",
       "      <td>5.300000</td>\n",
       "    </tr>\n",
       "    <tr>\n",
       "      <th>max</th>\n",
       "      <td>4.400000</td>\n",
       "      <td>5.800000</td>\n",
       "    </tr>\n",
       "  </tbody>\n",
       "</table>\n",
       "</div>"
      ],
      "text/plain": [
       "           width     length\n",
       "count  45.000000  45.000000\n",
       "mean    3.386667   4.993333\n",
       "std     0.479394   0.443847\n",
       "min     2.100000   4.000000\n",
       "25%     3.200000   4.700000\n",
       "50%     3.400000   5.000000\n",
       "75%     3.600000   5.300000\n",
       "max     4.400000   5.800000"
      ]
     },
     "execution_count": 14,
     "metadata": {},
     "output_type": "execute_result"
    }
   ],
   "source": [
    "data.describe()"
   ]
  },
  {
   "cell_type": "code",
   "execution_count": 15,
   "metadata": {},
   "outputs": [
    {
     "data": {
      "text/plain": [
       "45"
      ]
     },
     "execution_count": 15,
     "metadata": {},
     "output_type": "execute_result"
    }
   ],
   "source": [
    "data.shape[0]"
   ]
  },
  {
   "cell_type": "code",
   "execution_count": 17,
   "metadata": {},
   "outputs": [],
   "source": [
    "data_x,data_y = data['width'],data['length']\n"
   ]
  },
  {
   "cell_type": "code",
   "execution_count": 19,
   "metadata": {},
   "outputs": [
    {
     "data": {
      "text/plain": [
       "<matplotlib.axes._subplots.AxesSubplot at 0x1e5c7ad9048>"
      ]
     },
     "execution_count": 19,
     "metadata": {},
     "output_type": "execute_result"
    },
    {
     "data": {
      "image/png": "[encoded data removed]",
      "text/plain": [
       "<Figure size 720x432 with 1 Axes>"
      ]
     },
     "metadata": {},
     "output_type": "display_data"
    }
   ],
   "source": [
    "data.plot(kind='scatter', x='width', y='length', figsize=(10,6))"
   ]
  },
  {
   "cell_type": "code",
   "execution_count": 20,
   "metadata": {},
   "outputs": [
    {
     "data": {
      "image/png": "[encoded data removed]",
      "text/plain": [
       "<Figure size 432x288 with 1 Axes>"
      ]
     },
     "metadata": {},
     "output_type": "display_data"
    }
   ],
   "source": [
    "plt.plot(data_x,data_y,'o')\n",
    "plt.xlabel(\"sepal width\")\n",
    "plt.ylabel(\"sepal length\")\n",
    "plt.legend(['Data'],bbox_to_anchor=(1, 1),loc=4)\n",
    "plt.show()"
   ]
  },
  {
   "cell_type": "code",
   "execution_count": 21,
   "metadata": {},
   "outputs": [],
   "source": [
    "#simple linear reg model, a = w.x + b"
   ]
  },
  {
   "cell_type": "code",
   "execution_count": 22,
   "metadata": {},
   "outputs": [],
   "source": [
    "model = Sequential()\n",
    "model.add(Dense(1, input_dim=1, kernel_initializer='normal', activation='linear'))\n",
    "# Compile model\n",
    "model.compile(loss='mean_squared_error', optimizer='rmsprop',metrics=['mse'])\n",
    "#model.compile(loss='mean_squared_error', optimizer='sgd',metrics=['mse'])"
   ]
  },
  {
   "cell_type": "code",
   "execution_count": 23,
   "metadata": {},
   "outputs": [
    {
     "name": "stdout",
     "output_type": "stream",
     "text": [
      "_________________________________________________________________\n",
      "Layer (type)                 Output Shape              Param #   \n",
      "=================================================================\n",
      "dense_1 (Dense)              (None, 1)                 2         \n",
      "=================================================================\n",
      "Total params: 2\n",
      "Trainable params: 2\n",
      "Non-trainable params: 0\n",
      "_________________________________________________________________\n"
     ]
    }
   ],
   "source": [
    "model.summary()"
   ]
  },
  {
   "cell_type": "code",
   "execution_count": 24,
   "metadata": {},
   "outputs": [
    {
     "name": "stdout",
     "output_type": "stream",
     "text": [
      "WARNING:tensorflow:From C:\\Users\\Sarth\\AppData\\Local\\conda\\conda\\envs\\tensorflow\\lib\\site-packages\\tensorflow\\contrib\\learn\\python\\learn\\datasets\\base.py:198: retry (from tensorflow.contrib.learn.python.learn.datasets.base) is deprecated and will be removed in a future version.\n",
      "Instructions for updating:\n",
      "Use the retry module or similar alternatives.\n",
      "Epoch 1/100\n",
      "45/45 [==============================] - 0s 7ms/step - loss: 22.6332 - mean_squared_error: 22.6332\n",
      "Epoch 2/100\n",
      "45/45 [==============================] - 0s 1ms/step - loss: 20.7794 - mean_squared_error: 20.7794\n",
      "Epoch 3/100\n",
      "45/45 [==============================] - 0s 1ms/step - loss: 19.0588 - mean_squared_error: 19.0588\n",
      "Epoch 4/100\n",
      "45/45 [==============================] - 0s 1ms/step - loss: 17.4136 - mean_squared_error: 17.4136\n",
      "Epoch 5/100\n",
      "45/45 [==============================] - 0s 1ms/step - loss: 15.8434 - mean_squared_error: 15.8434\n",
      "Epoch 6/100\n",
      "45/45 [==============================] - 0s 1ms/step - loss: 14.3484 - mean_squared_error: 14.3484\n",
      "Epoch 7/100\n",
      "45/45 [==============================] - 0s 997us/step - loss: 12.9285 - mean_squared_error: 12.9285\n",
      "Epoch 8/100\n",
      "45/45 [==============================] - 0s 2ms/step - loss: 11.5837 - mean_squared_error: 11.5837\n",
      "Epoch 9/100\n",
      "45/45 [==============================] - 0s 972us/step - loss: 10.3139 - mean_squared_error: 10.3139\n",
      "Epoch 10/100\n",
      "45/45 [==============================] - 0s 1ms/step - loss: 9.1191 - mean_squared_error: 9.1191\n",
      "Epoch 11/100\n",
      "45/45 [==============================] - 0s 997us/step - loss: 7.9994 - mean_squared_error: 7.9994\n",
      "Epoch 12/100\n",
      "45/45 [==============================] - 0s 1ms/step - loss: 6.9547 - mean_squared_error: 6.9547\n",
      "Epoch 13/100\n",
      "45/45 [==============================] - 0s 895us/step - loss: 5.9850 - mean_squared_error: 5.9850\n",
      "Epoch 14/100\n",
      "45/45 [==============================] - 0s 2ms/step - loss: 5.0903 - mean_squared_error: 5.0903\n",
      "Epoch 15/100\n",
      "45/45 [==============================] - 0s 975us/step - loss: 4.2705 - mean_squared_error: 4.2705\n",
      "Epoch 16/100\n",
      "45/45 [==============================] - 0s 1ms/step - loss: 3.5256 - mean_squared_error: 3.5256\n",
      "Epoch 17/100\n",
      "45/45 [==============================] - 0s 1ms/step - loss: 2.8556 - mean_squared_error: 2.8556\n",
      "Epoch 18/100\n",
      "45/45 [==============================] - 0s 1ms/step - loss: 2.2603 - mean_squared_error: 2.2603\n",
      "Epoch 19/100\n",
      "45/45 [==============================] - 0s 1ms/step - loss: 1.7398 - mean_squared_error: 1.7398\n",
      "Epoch 20/100\n",
      "45/45 [==============================] - 0s 1ms/step - loss: 1.2937 - mean_squared_error: 1.2937\n",
      "Epoch 21/100\n",
      "45/45 [==============================] - 0s 1ms/step - loss: 0.9220 - mean_squared_error: 0.9220\n",
      "Epoch 22/100\n",
      "45/45 [==============================] - 0s 1ms/step - loss: 0.6241 - mean_squared_error: 0.6241\n",
      "Epoch 23/100\n",
      "45/45 [==============================] - 0s 1ms/step - loss: 0.3991 - mean_squared_error: 0.3991\n",
      "Epoch 24/100\n",
      "45/45 [==============================] - 0s 1ms/step - loss: 0.2447 - mean_squared_error: 0.2447\n",
      "Epoch 25/100\n",
      "45/45 [==============================] - 0s 1ms/step - loss: 0.1544 - mean_squared_error: 0.1544\n",
      "Epoch 26/100\n",
      "45/45 [==============================] - 0s 1ms/step - loss: 0.1132 - mean_squared_error: 0.1132\n",
      "Epoch 27/100\n",
      "45/45 [==============================] - 0s 1ms/step - loss: 0.0991 - mean_squared_error: 0.0991\n",
      "Epoch 28/100\n",
      "45/45 [==============================] - 0s 982us/step - loss: 0.0951 - mean_squared_error: 0.0951\n",
      "Epoch 29/100\n",
      "45/45 [==============================] - 0s 1ms/step - loss: 0.0941 - mean_squared_error: 0.0941    \n",
      "Epoch 30/100\n",
      "45/45 [==============================] - 0s 1ms/step - loss: 0.0938 - mean_squared_error: 0.0938    \n",
      "Epoch 31/100\n",
      "45/45 [==============================] - 0s 1ms/step - loss: 0.0936 - mean_squared_error: 0.0936    \n",
      "Epoch 32/100\n",
      "45/45 [==============================] - 0s 1ms/step - loss: 0.0935 - mean_squared_error: 0.0935  \n",
      "Epoch 33/100\n",
      "45/45 [==============================] - 0s 1ms/step - loss: 0.0934 - mean_squared_error: 0.0934    \n",
      "Epoch 34/100\n",
      "45/45 [==============================] - 0s 1ms/step - loss: 0.0933 - mean_squared_error: 0.0933    \n",
      "Epoch 35/100\n",
      "45/45 [==============================] - 0s 1ms/step - loss: 0.0932 - mean_squared_error: 0.0932    \n",
      "Epoch 36/100\n",
      "45/45 [==============================] - 0s 1ms/step - loss: 0.0931 - mean_squared_error: 0.0931    \n",
      "Epoch 37/100\n",
      "45/45 [==============================] - 0s 1ms/step - loss: 0.0930 - mean_squared_error: 0.0930  \n",
      "Epoch 38/100\n",
      "45/45 [==============================] - 0s 1ms/step - loss: 0.0929 - mean_squared_error: 0.0929    \n",
      "Epoch 39/100\n",
      "45/45 [==============================] - 0s 1ms/step - loss: 0.0928 - mean_squared_error: 0.0928    \n",
      "Epoch 40/100\n",
      "45/45 [==============================] - 0s 1ms/step - loss: 0.0927 - mean_squared_error: 0.0927    \n",
      "Epoch 41/100\n",
      "45/45 [==============================] - 0s 1ms/step - loss: 0.0926 - mean_squared_error: 0.0926    \n",
      "Epoch 42/100\n",
      "45/45 [==============================] - 0s 1ms/step - loss: 0.0925 - mean_squared_error: 0.0925    \n",
      "Epoch 43/100\n",
      "45/45 [==============================] - 0s 997us/step - loss: 0.0924 - mean_squared_error: 0.0924  \n",
      "Epoch 44/100\n",
      "45/45 [==============================] - 0s 1ms/step - loss: 0.0923 - mean_squared_error: 0.0923    \n",
      "Epoch 45/100\n",
      "45/45 [==============================] - 0s 1ms/step - loss: 0.0922 - mean_squared_error: 0.0922    \n",
      "Epoch 46/100\n",
      "45/45 [==============================] - 0s 1ms/step - loss: 0.0921 - mean_squared_error: 0.0921    \n",
      "Epoch 47/100\n",
      "45/45 [==============================] - 0s 1ms/step - loss: 0.0920 - mean_squared_error: 0.0920    \n",
      "Epoch 48/100\n",
      "45/45 [==============================] - 0s 1ms/step - loss: 0.0919 - mean_squared_error: 0.0919    \n",
      "Epoch 49/100\n",
      "45/45 [==============================] - 0s 1ms/step - loss: 0.0918 - mean_squared_error: 0.0918    \n",
      "Epoch 50/100\n",
      "45/45 [==============================] - 0s 1ms/step - loss: 0.0917 - mean_squared_error: 0.0917    \n",
      "Epoch 51/100\n",
      "45/45 [==============================] - 0s 1ms/step - loss: 0.0916 - mean_squared_error: 0.0916    \n",
      "Epoch 52/100\n",
      "45/45 [==============================] - 0s 1ms/step - loss: 0.0914 - mean_squared_error: 0.0914  \n",
      "Epoch 53/100\n",
      "45/45 [==============================] - 0s 1ms/step - loss: 0.0913 - mean_squared_error: 0.0913  \n",
      "Epoch 54/100\n",
      "45/45 [==============================] - 0s 2ms/step - loss: 0.0912 - mean_squared_error: 0.0912  \n",
      "Epoch 55/100\n",
      "45/45 [==============================] - 0s 1ms/step - loss: 0.0911 - mean_squared_error: 0.0911    \n",
      "Epoch 56/100\n",
      "45/45 [==============================] - 0s 975us/step - loss: 0.0910 - mean_squared_error: 0.0910  \n",
      "Epoch 57/100\n",
      "45/45 [==============================] - 0s 975us/step - loss: 0.0909 - mean_squared_error: 0.0909  \n",
      "Epoch 58/100\n",
      "45/45 [==============================] - 0s 976us/step - loss: 0.0908 - mean_squared_error: 0.0908  \n",
      "Epoch 59/100\n",
      "45/45 [==============================] - 0s 953us/step - loss: 0.0907 - mean_squared_error: 0.0907  \n",
      "Epoch 60/100\n",
      "45/45 [==============================] - 0s 1ms/step - loss: 0.0906 - mean_squared_error: 0.0906    \n",
      "Epoch 61/100\n",
      "45/45 [==============================] - 0s 997us/step - loss: 0.0905 - mean_squared_error: 0.0905  \n",
      "Epoch 62/100\n",
      "45/45 [==============================] - 0s 1ms/step - loss: 0.0904 - mean_squared_error: 0.0904    \n",
      "Epoch 63/100\n",
      "45/45 [==============================] - 0s 1ms/step - loss: 0.0903 - mean_squared_error: 0.0903    \n",
      "Epoch 64/100\n",
      "45/45 [==============================] - 0s 1ms/step - loss: 0.0902 - mean_squared_error: 0.0902    \n",
      "Epoch 65/100\n",
      "45/45 [==============================] - 0s 1ms/step - loss: 0.0902 - mean_squared_error: 0.0902    \n",
      "Epoch 66/100\n",
      "45/45 [==============================] - 0s 1ms/step - loss: 0.0901 - mean_squared_error: 0.0901    \n",
      "Epoch 67/100\n",
      "45/45 [==============================] - 0s 1ms/step - loss: 0.0900 - mean_squared_error: 0.0900  \n",
      "Epoch 68/100\n",
      "45/45 [==============================] - 0s 1ms/step - loss: 0.0899 - mean_squared_error: 0.0899  \n",
      "Epoch 69/100\n",
      "45/45 [==============================] - 0s 997us/step - loss: 0.0898 - mean_squared_error: 0.0898  \n",
      "Epoch 70/100\n"
     ]
    },
    {
     "name": "stdout",
     "output_type": "stream",
     "text": [
      "45/45 [==============================] - 0s 1ms/step - loss: 0.0897 - mean_squared_error: 0.0897    \n",
      "Epoch 71/100\n",
      "45/45 [==============================] - 0s 1ms/step - loss: 0.0896 - mean_squared_error: 0.0896    \n",
      "Epoch 72/100\n",
      "45/45 [==============================] - 0s 1ms/step - loss: 0.0895 - mean_squared_error: 0.0895    \n",
      "Epoch 73/100\n",
      "45/45 [==============================] - 0s 1ms/step - loss: 0.0894 - mean_squared_error: 0.0894    \n",
      "Epoch 74/100\n",
      "45/45 [==============================] - 0s 1ms/step - loss: 0.0893 - mean_squared_error: 0.0893    \n",
      "Epoch 75/100\n",
      "45/45 [==============================] - 0s 1ms/step - loss: 0.0892 - mean_squared_error: 0.0892    \n",
      "Epoch 76/100\n",
      "45/45 [==============================] - 0s 716us/step - loss: 0.0891 - mean_squared_error: 0.0891  \n",
      "Epoch 77/100\n",
      "45/45 [==============================] - 0s 1ms/step - loss: 0.0890 - mean_squared_error: 0.0890    \n",
      "Epoch 78/100\n",
      "45/45 [==============================] - 0s 1ms/step - loss: 0.0889 - mean_squared_error: 0.0889    \n",
      "Epoch 79/100\n",
      "45/45 [==============================] - 0s 1ms/step - loss: 0.0888 - mean_squared_error: 0.0888    \n",
      "Epoch 80/100\n",
      "45/45 [==============================] - 0s 1ms/step - loss: 0.0887 - mean_squared_error: 0.0887    \n",
      "Epoch 81/100\n",
      "45/45 [==============================] - 0s 1ms/step - loss: 0.0886 - mean_squared_error: 0.0886    \n",
      "Epoch 82/100\n",
      "45/45 [==============================] - 0s 1ms/step - loss: 0.0885 - mean_squared_error: 0.0885    \n",
      "Epoch 83/100\n",
      "45/45 [==============================] - 0s 1ms/step - loss: 0.0884 - mean_squared_error: 0.0884    \n",
      "Epoch 84/100\n",
      "45/45 [==============================] - 0s 1ms/step - loss: 0.0883 - mean_squared_error: 0.0883  \n",
      "Epoch 85/100\n",
      "45/45 [==============================] - 0s 1ms/step - loss: 0.0882 - mean_squared_error: 0.0882    \n",
      "Epoch 86/100\n",
      "45/45 [==============================] - 0s 1ms/step - loss: 0.0881 - mean_squared_error: 0.0881  \n",
      "Epoch 87/100\n",
      "45/45 [==============================] - 0s 1ms/step - loss: 0.0881 - mean_squared_error: 0.0881    \n",
      "Epoch 88/100\n",
      "45/45 [==============================] - 0s 1ms/step - loss: 0.0880 - mean_squared_error: 0.0880    \n",
      "Epoch 89/100\n",
      "45/45 [==============================] - 0s 1ms/step - loss: 0.0879 - mean_squared_error: 0.0879    \n",
      "Epoch 90/100\n",
      "45/45 [==============================] - 0s 1ms/step - loss: 0.0878 - mean_squared_error: 0.0878    \n",
      "Epoch 91/100\n",
      "45/45 [==============================] - 0s 1ms/step - loss: 0.0877 - mean_squared_error: 0.0877    \n",
      "Epoch 92/100\n",
      "45/45 [==============================] - 0s 1ms/step - loss: 0.0876 - mean_squared_error: 0.0876  \n",
      "Epoch 93/100\n",
      "45/45 [==============================] - 0s 2ms/step - loss: 0.0875 - mean_squared_error: 0.0875  \n",
      "Epoch 94/100\n",
      "45/45 [==============================] - 0s 1ms/step - loss: 0.0874 - mean_squared_error: 0.0874    \n",
      "Epoch 95/100\n",
      "45/45 [==============================] - 0s 1ms/step - loss: 0.0873 - mean_squared_error: 0.0873    \n",
      "Epoch 96/100\n",
      "45/45 [==============================] - 0s 1ms/step - loss: 0.0872 - mean_squared_error: 0.0872  \n",
      "Epoch 97/100\n",
      "45/45 [==============================] - 0s 1ms/step - loss: 0.0871 - mean_squared_error: 0.0871  \n",
      "Epoch 98/100\n",
      "45/45 [==============================] - 0s 1ms/step - loss: 0.0870 - mean_squared_error: 0.0870  \n",
      "Epoch 99/100\n",
      "45/45 [==============================] - 0s 1ms/step - loss: 0.0870 - mean_squared_error: 0.0870  \n",
      "Epoch 100/100\n",
      "45/45 [==============================] - 0s 1ms/step - loss: 0.0869 - mean_squared_error: 0.0869    \n"
     ]
    }
   ],
   "source": [
    "#to store logs\n",
    "tensorboard = TensorBoard(log_dir=\"./simple_lin_reg\")\n",
    "# Train the model\n",
    "hist = model.fit(data_x,data_y, batch_size=1, epochs=100, shuffle=False,callbacks=[tensorboard])"
   ]
  },
  {
   "cell_type": "code",
   "execution_count": 25,
   "metadata": {},
   "outputs": [
    {
     "data": {
      "image/png": "[encoded data removed]",
      "text/plain": [
       "<Figure size 504x360 with 1 Axes>"
      ]
     },
     "metadata": {},
     "output_type": "display_data"
    }
   ],
   "source": [
    "# visualizing losses and accuracy\n",
    "num_epoch = 100\n",
    "train_loss=hist.history['loss']\n",
    "xc=range(num_epoch)\n",
    "\n",
    "plt.figure(1,figsize=(7,5))\n",
    "plt.plot(xc,train_loss)\n",
    "plt.xlabel('num of Epochs')\n",
    "plt.ylabel('loss')\n",
    "plt.title('train_loss')\n",
    "plt.grid(True)\n",
    "plt.legend(['train','val'])\n",
    "plt.style.use(['classic'])"
   ]
  },
  {
   "cell_type": "code",
   "execution_count": 26,
   "metadata": {},
   "outputs": [
    {
     "name": "stdout",
     "output_type": "stream",
     "text": [
      "45/45 [==============================] - 0s 3ms/step\n",
      "Test Score: [0.0858241523305575, 0.0858241523305575]\n"
     ]
    }
   ],
   "source": [
    "#Model Evaluation\n",
    "x_test = np.array(data_x)\n",
    "y_test = np.array(data_y)\n",
    "score = model.evaluate(x_test, y_test)\n",
    "print('Test Score:', score)"
   ]
  },
  {
   "cell_type": "code",
   "execution_count": 27,
   "metadata": {},
   "outputs": [
    {
     "name": "stdout",
     "output_type": "stream",
     "text": [
      "predicted_value:  [[5.107539]]\n",
      "true_value:  [5.1]\n"
     ]
    }
   ],
   "source": [
    "#test \n",
    "x_test = np.array(data_x[0:1])\n",
    "y_test = np.array(data_y[0:1])\n",
    "y_test_predicted=model.predict(x_test)\n",
    "print ('predicted_value: ', y_test_predicted)\n",
    "print ('true_value: ', y_test)"
   ]
  },
  {
   "cell_type": "code",
   "execution_count": 28,
   "metadata": {},
   "outputs": [
    {
     "data": {
      "text/plain": [
       "[array([[1.0960288]], dtype=float32), array([1.2714386], dtype=float32)]"
      ]
     },
     "execution_count": 28,
     "metadata": {},
     "output_type": "execute_result"
    }
   ],
   "source": [
    "#weights\n",
    "#model.get_weights()\n",
    "#params=model.get_weights()\n",
    "params=model.layers[0].get_weights()\n",
    "params\n"
   ]
  },
  {
   "cell_type": "code",
   "execution_count": 29,
   "metadata": {},
   "outputs": [
    {
     "data": {
      "text/plain": [
       "[array([[1.0960288]], dtype=float32), array([1.2714386], dtype=float32)]"
      ]
     },
     "execution_count": 29,
     "metadata": {},
     "output_type": "execute_result"
    }
   ],
   "source": [
    "model.get_weights()"
   ]
  },
  {
   "cell_type": "code",
   "execution_count": 30,
   "metadata": {},
   "outputs": [],
   "source": [
    "x_test = np.array(data_x)\n",
    "y_test = np.array(data_y)\n",
    "y_test_predicted=model.predict(x_test)\n",
    "#y_test_predicted"
   ]
  },
  {
   "cell_type": "code",
   "execution_count": 32,
   "metadata": {},
   "outputs": [
    {
     "data": {
      "image/png": "[encoded data removed]",
      "text/plain": [
       "<Figure size 640x480 with 1 Axes>"
      ]
     },
     "metadata": {},
     "output_type": "display_data"
    }
   ],
   "source": [
    "plt.plot(x_test,y_test,'o', x_test,y_test_predicted,\"-\")\n",
    "plt.xlabel(\"Sepal width (cm)\")\n",
    "plt.ylabel(\"Sepal length (cm)\")\n",
    "plt.legend(['Data', 'Linear Regression Model(a=w*x+b)'],bbox_to_anchor=(1, 1),loc=4)\n",
    "plt.show()"
   ]
  },
  {
   "cell_type": "code",
   "execution_count": 33,
   "metadata": {},
   "outputs": [],
   "source": [
    "model.save('simple_lin_reg_model_1.h5')"
   ]
  },
  {
   "cell_type": "code",
   "execution_count": 52,
   "metadata": {},
   "outputs": [
    {
     "data": {
      "text/plain": [
       "[array([[0.80627126]], dtype=float32), array([-0.72967607], dtype=float32)]"
      ]
     },
     "execution_count": 52,
     "metadata": {},
     "output_type": "execute_result"
    }
   ],
   "source": [
    "from keras.models import load_model\n",
    "loaded_model=load_model('simple_lin_reg_model.h5')\n",
    "loaded_model.get_weights()"
   ]
  }
 ],
 "metadata": {
  "kernelspec": {
   "display_name": "Python 3",
   "language": "python",
   "name": "python3"
  },
  "language_info": {
   "codemirror_mode": {
    "name": "ipython",
    "version": 3
   },
   "file_extension": ".py",
   "mimetype": "text/x-python",
   "name": "python",
   "nbconvert_exporter": "python",
   "pygments_lexer": "ipython3",
   "version": "3.5.4"
  }
 },
 "nbformat": 4,
 "nbformat_minor": 2
}
